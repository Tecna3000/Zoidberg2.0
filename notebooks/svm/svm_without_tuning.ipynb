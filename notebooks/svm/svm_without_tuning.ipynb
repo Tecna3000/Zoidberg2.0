{
 "cells": [
  {
   "metadata": {},
   "cell_type": "markdown",
   "source": [
    "# SVM\n",
    "Implémentation d'un SVM avec une recherche d'hyper-paramètres.\n",
    "<br>\n",
    "### Etapes\n",
    "\n",
    "1. **Chargement des données** à partir des dossiers déjà splités (train/test).\n",
    "2. **Pré-traîtement** des données. \n",
    "3. **Initialisation et entraînement du modèle**.\n",
    "5. **Evaluation du modèle** et **prédiction**."
   ],
   "id": "3b5bfa068a9e940f"
  },
  {
   "metadata": {},
   "cell_type": "markdown",
   "source": [
    "## Chargement et split des données en fonction du dossier\n",
    "\n",
    "Les images sont redimensionnées à 64x64 pixels pour avoir une taille uniforme et plus légère.\n"
   ],
   "id": "4650be7a0e0460d2"
  },
  {
   "metadata": {
    "ExecuteTime": {
     "end_time": "2024-07-21T20:50:49.385054Z",
     "start_time": "2024-07-21T20:50:01.330929Z"
    }
   },
   "cell_type": "code",
   "source": [
    "from sklearn.model_selection import train_test_split\n",
    "\n",
    "from src.preprocessing import load_images_from_folder\n",
    "import os\n",
    "\n",
    "base_path = os.path.abspath(os.path.join(os.getcwd(), \"../../data/raw_test\"))\n",
    "\n",
    "train_path = os.path.join(base_path, \"train\")\n",
    "\n",
    "X, y = load_images_from_folder(train_path, image_size=(128, 128))\n",
    "\n",
    "X_train, X_test, y_train, y_test = train_test_split(X, y, test_size=0.1, random_state=0)"
   ],
   "id": "1d41df6c88f08a85",
   "outputs": [],
   "execution_count": 2
  },
  {
   "metadata": {},
   "cell_type": "markdown",
   "source": [
    "## Pré-traitement des données\n",
    "\n",
    "- Normalisation des images pour \"rescaler\" les valeurs des pixels dans une plage uniforme.\n",
    "- Aplanissement des images (2D -> 1D) pour les rendre compatibles."
   ],
   "id": "90734adb95a9e4e4"
  },
  {
   "metadata": {
    "ExecuteTime": {
     "end_time": "2024-07-21T20:50:50.619252Z",
     "start_time": "2024-07-21T20:50:49.386062Z"
    }
   },
   "cell_type": "code",
   "source": [
    "import numpy as np\n",
    "from src.preprocessing import normalize_images\n",
    "\n",
    "normalized_images = normalize_images(X_train)\n",
    "flattened_images = np.array([x.flatten() for x in normalized_images])\n",
    "\n",
    "test_normalized_images = normalize_images(X_test)\n",
    "test_flattened_images = np.array([x.flatten() for x in test_normalized_images])"
   ],
   "id": "1755882458e03c6f",
   "outputs": [],
   "execution_count": 3
  },
  {
   "metadata": {},
   "cell_type": "markdown",
   "source": [
    "## Initialisation et entraînement du modèle\n",
    "\n",
    "- Initialisation du modèle basé sur un SVM.\n",
    "- Entraînement du modèle."
   ],
   "id": "cce8d81da3751045"
  },
  {
   "metadata": {
    "jupyter": {
     "is_executing": true
    },
    "ExecuteTime": {
     "start_time": "2024-07-21T20:50:50.620763Z"
    }
   },
   "cell_type": "code",
   "source": [
    "from sklearn.svm import SVC\n",
    "\n",
    "svc = SVC()\n",
    "svc.fit(flattened_images, y_train)"
   ],
   "id": "e1cc4a2e57e49b41",
   "outputs": [],
   "execution_count": null
  },
  {
   "metadata": {},
   "cell_type": "markdown",
   "source": [
    "## Evaluation du meilleur modèle sélectionné\n",
    "\n",
    "- Validation croisée pour évaluer les performances du modèle.\n",
    "- Prédiction et évaluation du modèle sur les données de test."
   ],
   "id": "c81dd3225be76eb4"
  },
  {
   "metadata": {
    "jupyter": {
     "is_executing": true
    }
   },
   "cell_type": "code",
   "source": [
    "from sklearn.model_selection import cross_val_score\n",
    "\n",
    "scores = cross_val_score(svc, flattened_images, y_train, cv=5, scoring='accuracy')\n",
    "print(f\"Scores de validation croisée : {scores}\")\n",
    "print(f\"Score moyen de validation croisée : {np.mean(scores)}\")\n",
    "\n",
    "y_pred = svc.predict(test_flattened_images)\n",
    "\n",
    "from sklearn.metrics import classification_report, accuracy_score\n",
    "\n",
    "print(f\"Accuracy sur les données de test : {accuracy_score(y_test, y_pred)}\")\n",
    "print(f\"Rapport de classification :\\n {classification_report(y_test, y_pred)}\")"
   ],
   "id": "4460f854e2662c26",
   "outputs": [],
   "execution_count": null
  }
 ],
 "metadata": {
  "kernelspec": {
   "display_name": "Python 3",
   "language": "python",
   "name": "python3"
  },
  "language_info": {
   "codemirror_mode": {
    "name": "ipython",
    "version": 2
   },
   "file_extension": ".py",
   "mimetype": "text/x-python",
   "name": "python",
   "nbconvert_exporter": "python",
   "pygments_lexer": "ipython2",
   "version": "2.7.6"
  }
 },
 "nbformat": 4,
 "nbformat_minor": 5
}
