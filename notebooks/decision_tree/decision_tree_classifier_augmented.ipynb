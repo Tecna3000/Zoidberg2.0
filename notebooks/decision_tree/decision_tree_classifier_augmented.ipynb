{
 "cells": [
  {
   "cell_type": "markdown",
   "source": [
    "# Arbre de décision\n",
    "Implémentation d'un arbre de décision avec une recherche d'hyper-paramètres.\n",
    "<br>\n",
    "### Etapes\n",
    "\n",
    "1. **Chargement des données** à partir des dossiers déjà splités (train/test).\n",
    "2. **Pré-traîtement** des données. \n",
    "3. **Initialisation du modèle**.\n",
    "4. **Recherche d'hyper-paramètres**.\n",
    "5. **Evaluation du modèle** et **prédiction**.\n",
    "\n",
    "<br>\n",
    "\n",
    "### Conclusion\n",
    "\n",
    "- Grande différence entre le score de validation croisée et le score sur les données de tests (+15%).\n",
    "- Il n'est pas forcément nécessaire de normaliser les données dans le cadre d'un arbre de décision.\n",
    "- Le modèle est probablement overfitté."
   ],
   "metadata": {
    "collapsed": false
   },
   "id": "ae8548821250ee4a"
  },
  {
   "cell_type": "markdown",
   "source": [
    "## Chargement et split des données en fonction du dossier\n",
    "\n",
    "Les images sont redimensionnées à 64x64 pixels pour avoir une taille uniforme et plus légère."
   ],
   "metadata": {
    "collapsed": false
   },
   "id": "10f7cc7c1fe9015a"
  },
  {
   "cell_type": "code",
   "outputs": [],
   "source": [
    "import numpy as np\n",
    "\n",
    "from src.preprocessing import load_images_from_folder\n",
    "import os\n",
    "\n",
    "base_path = os.path.abspath(os.path.join(os.getcwd(), \"../..//data/raw\"))\n",
    "\n",
    "train_path = os.path.join(base_path, \"train\")\n",
    "test_path = os.path.join(base_path, \"test\")\n",
    "\n",
    "X_train, y_train = load_images_from_folder(train_path, image_size=(64, 64))\n",
    "X_test, y_test = load_images_from_folder(test_path, image_size=(64, 64))"
   ],
   "metadata": {
    "collapsed": true,
    "ExecuteTime": {
     "end_time": "2024-06-11T07:57:36.541589Z",
     "start_time": "2024-06-11T07:56:12.221030Z"
    }
   },
   "id": "initial_id",
   "execution_count": 1
  },
  {
   "cell_type": "markdown",
   "source": [
    "## Pré-traitement des données\n",
    "\n",
    "- Augmentation des données pour avoir une distribution des classes homogènes\n",
    "- Normalisation des images pour \"rescaler\" les valeurs des pixels dans une plage uniforme.\n",
    "- Aplanissement des images (2D -> 1D) pour les rendre compatibles."
   ],
   "metadata": {
    "collapsed": false
   },
   "id": "783c56079f1fe476"
  },
  {
   "cell_type": "code",
   "outputs": [],
   "source": [
    "from src.augment import augment_images_to_balance\n",
    "\n",
    "X_train_augmented, y_train_augmented = augment_images_to_balance(\n",
    "    X_train, y_train\n",
    ")"
   ],
   "metadata": {
    "collapsed": false,
    "ExecuteTime": {
     "end_time": "2024-06-11T07:57:48.864495Z",
     "start_time": "2024-06-11T07:57:47.873343Z"
    }
   },
   "id": "97f8472dd145a770",
   "execution_count": 3
  },
  {
   "cell_type": "code",
   "outputs": [],
   "source": [
    "flattened_images = np.array([x.flatten() for x in X_train_augmented])\n",
    "test_flattened_images = np.array([x.flatten() for x in X_test])"
   ],
   "metadata": {
    "collapsed": false,
    "ExecuteTime": {
     "end_time": "2024-06-11T08:45:18.366165Z",
     "start_time": "2024-06-11T08:45:18.251517Z"
    }
   },
   "id": "1e7dbb21eef11c85",
   "execution_count": 11
  },
  {
   "cell_type": "markdown",
   "source": [
    "## Initialisation et recherche des hyperparamètres optimaux du modèle avec les données traitées\n",
    "\n",
    "- Initialisation du modèle basé sur un arbre de décision.\n",
    "- Définition de la grille de recherche d'hyper-paramètres.\n",
    "- Recherche d'hyper-paramètres avec GridSearchCV basée sur la validation croisée.\n",
    "- Entraînement et recherche d'hyper-paramètres"
   ],
   "metadata": {
    "collapsed": false
   },
   "id": "66220b5e14e46df7"
  },
  {
   "cell_type": "code",
   "outputs": [],
   "source": [
    "from sklearn.model_selection import GridSearchCV\n",
    "from sklearn.tree import DecisionTreeClassifier\n",
    "\n",
    "clf = DecisionTreeClassifier()\n",
    "\n",
    "param_grid = {\n",
    "    'criterion': ['gini'],\n",
    "    'max_depth': [None, 10, 20, 30],\n",
    "    'min_samples_split': [2, 5, 10],\n",
    "    'min_samples_leaf': [1, 2, 4],\n",
    "    'max_features': [None, 'sqrt', 'log2']\n",
    "}\n",
    "\n",
    "grid_search = GridSearchCV(clf, param_grid, cv=5, scoring='accuracy', n_jobs=-1)\n",
    "grid_search.fit(flattened_images, y_train_augmented)"
   ],
   "metadata": {
    "collapsed": false,
    "is_executing": true,
    "ExecuteTime": {
     "start_time": "2024-06-11T14:13:10.352952Z"
    }
   },
   "id": "2d7556d6df756080",
   "execution_count": null
  },
  {
   "cell_type": "markdown",
   "source": [
    "#### Affichage des hyper-paramètres calculées par la recherche."
   ],
   "metadata": {
    "collapsed": false
   },
   "id": "81b7b080784ba2fa"
  },
  {
   "cell_type": "code",
   "outputs": [
    {
     "data": {
      "text/plain": "{'ccp_alpha': 0.001,\n 'criterion': 'gini',\n 'max_depth': 30,\n 'max_features': 'sqrt',\n 'min_samples_leaf': 1,\n 'min_samples_split': 5}"
     },
     "execution_count": 17,
     "metadata": {},
     "output_type": "execute_result"
    }
   ],
   "source": [
    "grid_search.best_params_"
   ],
   "metadata": {
    "collapsed": false,
    "ExecuteTime": {
     "end_time": "2024-06-11T14:12:49.767083Z",
     "start_time": "2024-06-11T14:12:49.754713Z"
    }
   },
   "id": "e7a9499843a7eb20",
   "execution_count": 17
  },
  {
   "cell_type": "markdown",
   "source": [
    "## Evaluation du meilleur modèle selectionné\n",
    "\n",
    "- Validation croisée pour évaluer les performance du modèle.\n",
    "- Prédiction et évaluation du modèle sur les données de test."
   ],
   "metadata": {
    "collapsed": false
   },
   "id": "e47c46657b7cdb5d"
  },
  {
   "cell_type": "code",
   "outputs": [
    {
     "name": "stdout",
     "output_type": "stream",
     "text": [
      "Scores de validation croisée : [0.8        0.83483871 0.94387097 0.92709677 0.93806452]\n",
      "Score moyen de validation croisée : 0.8887741935483872\n",
      "Accuracy sur les données de test : 0.75625\n",
      "Rapport de classification :\n",
      "               precision    recall  f1-score   support\n",
      "\n",
      "           0       0.83      0.45      0.58       242\n",
      "           1       0.74      0.94      0.83       398\n",
      "\n",
      "    accuracy                           0.76       640\n",
      "   macro avg       0.78      0.70      0.71       640\n",
      "weighted avg       0.77      0.76      0.74       640\n"
     ]
    }
   ],
   "source": [
    "from sklearn.model_selection import cross_val_score\n",
    "\n",
    "best_clf = grid_search.best_estimator_\n",
    "scores = cross_val_score(best_clf, flattened_images, y_train_augmented, cv=5, scoring='accuracy')\n",
    "print(f\"Scores de validation croisée : {scores}\")\n",
    "print(f\"Score moyen de validation croisée : {np.mean(scores)}\")\n",
    "\n",
    "y_pred = best_clf.predict(test_flattened_images)\n",
    "\n",
    "from sklearn.metrics import classification_report, accuracy_score\n",
    "\n",
    "print(f\"Accuracy sur les données de test : {accuracy_score(y_test, y_pred)}\")\n",
    "print(f\"Rapport de classification :\\n {classification_report(y_test, y_pred)}\")"
   ],
   "metadata": {
    "collapsed": false,
    "ExecuteTime": {
     "end_time": "2024-06-11T14:12:57.479020Z",
     "start_time": "2024-06-11T14:12:53.382310Z"
    }
   },
   "id": "aab077a9179db1d7",
   "execution_count": 18
  }
 ],
 "metadata": {
  "kernelspec": {
   "display_name": "Python 3",
   "language": "python",
   "name": "python3"
  },
  "language_info": {
   "codemirror_mode": {
    "name": "ipython",
    "version": 2
   },
   "file_extension": ".py",
   "mimetype": "text/x-python",
   "name": "python",
   "nbconvert_exporter": "python",
   "pygments_lexer": "ipython2",
   "version": "2.7.6"
  }
 },
 "nbformat": 4,
 "nbformat_minor": 5
}
