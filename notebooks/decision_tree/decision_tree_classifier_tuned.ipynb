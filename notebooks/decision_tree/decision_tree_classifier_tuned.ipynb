{
 "cells": [
  {
   "cell_type": "markdown",
   "source": [
    "# Arbre de décision\n",
    "Implémentation d'un arbre de décision avec une recherche d'hyper-paramètres.\n",
    "<br>\n",
    "### Etapes\n",
    "\n",
    "1. **Chargement des données** à partir des dossiers déjà splités (train/test).\n",
    "2. **Pré-traîtement** des données. \n",
    "3. **Initialisation du modèle**.\n",
    "4. **Recherche d'hyper-paramètres**.\n",
    "5. **Evaluation du modèle** et **prédiction**.\n",
    "\n",
    "<br>\n",
    "\n",
    "### Conclusion\n",
    "\n",
    "- Grande différence entre le score de validation croisée et le score sur les données de tests (+15%).\n",
    "- Il n'est pas forcément nécessaire de normaliser les données dans le cadre d'un arbre de décision.\n",
    "- Le modèle est probablement overfitté."
   ],
   "metadata": {
    "collapsed": false
   },
   "id": "ae8548821250ee4a"
  },
  {
   "cell_type": "markdown",
   "source": [
    "## Chargement et split des données en fonction du dossier\n",
    "\n",
    "Les images sont redimensionnées à 64x64 pixels pour avoir une taille uniforme et plus légère."
   ],
   "metadata": {
    "collapsed": false
   },
   "id": "10f7cc7c1fe9015a"
  },
  {
   "cell_type": "code",
   "outputs": [],
   "source": [
    "from sklearn.model_selection import train_test_split\n",
    "import numpy as np\n",
    "\n",
    "from src.preprocessing import load_images_from_folder\n",
    "import os\n",
    "\n",
    "base_path = os.path.abspath(os.path.join(os.getcwd(), \"../../data/raw\"))\n",
    "\n",
    "train_path = os.path.join(base_path, \"train\")\n",
    "\n",
    "X, y = load_images_from_folder(train_path, image_size=(64, 64))\n",
    "\n",
    "X_train, X_test, y_train, y_test = train_test_split(X, y, test_size=0.1, random_state=0)"
   ],
   "metadata": {
    "collapsed": true,
    "ExecuteTime": {
     "end_time": "2024-07-21T16:00:07.302682Z",
     "start_time": "2024-07-21T15:59:14.936967Z"
    }
   },
   "id": "initial_id",
   "execution_count": 2
  },
  {
   "cell_type": "markdown",
   "source": [
    "## Pré-traitement des données\n",
    "\n",
    "- Normalisation des images pour \"rescaler\" les valeurs des pixels dans une plage uniforme.\n",
    "- Aplanissement des images (2D -> 1D) pour les rendre compatibles."
   ],
   "metadata": {
    "collapsed": false
   },
   "id": "783c56079f1fe476"
  },
  {
   "cell_type": "code",
   "outputs": [],
   "source": [
    "flattened_images = np.array([x.flatten() for x in X_train])\n",
    "\n",
    "test_flattened_images = np.array([x.flatten() for x in X_test])"
   ],
   "metadata": {
    "collapsed": false,
    "ExecuteTime": {
     "end_time": "2024-07-21T16:00:07.364423Z",
     "start_time": "2024-07-21T16:00:07.305743Z"
    }
   },
   "id": "1e7dbb21eef11c85",
   "execution_count": 3
  },
  {
   "cell_type": "markdown",
   "source": [
    "## Initialisation et recherche des hyperparamètres optimaux du modèle avec les données traitées\n",
    "\n",
    "- Initialisation du modèle basé sur un arbre de décision.\n",
    "- Définition de la grille de recherche d'hyper-paramètres.\n",
    "- Recherche d'hyper-paramètres avec GridSearchCV basée sur la validation croisée.\n",
    "- Entraînement et recherche d'hyper-paramètres"
   ],
   "metadata": {
    "collapsed": false
   },
   "id": "66220b5e14e46df7"
  },
  {
   "cell_type": "code",
   "outputs": [],
   "source": [
    "from sklearn.model_selection import GridSearchCV\n",
    "from sklearn.tree import DecisionTreeClassifier\n",
    "\n",
    "clf = DecisionTreeClassifier()\n",
    "\n",
    "param_grid = {\n",
    "    'criterion': ['gini'],\n",
    "    'max_depth': [None, 10, 20, 30, 40, 50],\n",
    "    'min_samples_split': [2, 5, 10],\n",
    "    'min_samples_leaf': [1, 2, 4],\n",
    "    'max_features': [None, 'sqrt', 'log2']\n",
    "}\n",
    "\n",
    "grid_search = GridSearchCV(clf, param_grid, cv=5, scoring='accuracy', n_jobs=-1)\n",
    "grid_search.fit(flattened_images, y_train)"
   ],
   "metadata": {
    "collapsed": false,
    "is_executing": true,
    "ExecuteTime": {
     "start_time": "2024-07-21T16:00:07.370402Z"
    }
   },
   "id": "2d7556d6df756080",
   "execution_count": null
  },
  {
   "cell_type": "markdown",
   "source": [
    "#### Affichage des hyper-paramètres calculées par la recherche."
   ],
   "metadata": {
    "collapsed": false
   },
   "id": "81b7b080784ba2fa"
  },
  {
   "cell_type": "code",
   "outputs": [],
   "source": [
    "grid_search.best_params_"
   ],
   "metadata": {
    "collapsed": false,
    "is_executing": true
   },
   "id": "e7a9499843a7eb20",
   "execution_count": null
  },
  {
   "cell_type": "markdown",
   "source": [
    "## Evaluation du meilleur modèle selectionné\n",
    "\n",
    "- Validation croisée pour évaluer les performance du modèle.\n",
    "- Prédiction et évaluation du modèle sur les données de test."
   ],
   "metadata": {
    "collapsed": false
   },
   "id": "e47c46657b7cdb5d"
  },
  {
   "cell_type": "code",
   "outputs": [],
   "source": [
    "from sklearn.model_selection import cross_val_score\n",
    "\n",
    "best_clf = grid_search.best_estimator_\n",
    "scores = cross_val_score(best_clf, flattened_images, y_train, cv=5, scoring='accuracy')\n",
    "print(f\"Scores de validation croisée : {scores}\")\n",
    "print(f\"Score moyen de validation croisée : {np.mean(scores)}\")\n",
    "\n",
    "y_pred = best_clf.predict(test_flattened_images)\n",
    "\n",
    "from sklearn.metrics import classification_report, accuracy_score\n",
    "\n",
    "print(f\"Accuracy sur les données de test : {accuracy_score(y_test, y_pred)}\")\n",
    "print(f\"Rapport de classification :\\n {classification_report(y_test, y_pred)}\")"
   ],
   "metadata": {
    "collapsed": false,
    "is_executing": true
   },
   "id": "aab077a9179db1d7",
   "execution_count": null
  }
 ],
 "metadata": {
  "kernelspec": {
   "display_name": "Python 3",
   "language": "python",
   "name": "python3"
  },
  "language_info": {
   "codemirror_mode": {
    "name": "ipython",
    "version": 2
   },
   "file_extension": ".py",
   "mimetype": "text/x-python",
   "name": "python",
   "nbconvert_exporter": "python",
   "pygments_lexer": "ipython2",
   "version": "2.7.6"
  }
 },
 "nbformat": 4,
 "nbformat_minor": 5
}
