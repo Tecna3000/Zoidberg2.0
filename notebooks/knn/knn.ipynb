{
 "cells": [
  {
   "metadata": {},
   "cell_type": "markdown",
   "source": [
    " # K-nearest-neighbours (KNN)\n",
    "## Etapes:\n",
    "#### 1. Chargement des  données\n",
    "- Charger les images et les étiquettes (malade ou non) à partir des dossiers de données."
   ],
   "id": "ac5b06a121444c7a"
  },
  {
   "metadata": {
    "ExecuteTime": {
     "end_time": "2024-07-21T21:22:26.941648Z",
     "start_time": "2024-07-21T21:22:26.897702Z"
    }
   },
   "cell_type": "code",
   "source": [
    "from sklearn.model_selection import train_test_split\n",
    "import numpy as np\n",
    "\n",
    "from src.preprocessing import load_images_from_folder\n",
    "import os\n",
    "\n",
    "base_path = os.path.abspath(os.path.join(os.getcwd(), \"../../data/raw_test\"))\n",
    "\n",
    "train_path = os.path.join(base_path, \"train\")\n",
    "\n",
    "X, y = load_images_from_folder(train_path, image_size=(64, 64))\n",
    "\n",
    "X_train, X_test, y_train, y_test = train_test_split(X, y, test_size=0.1, random_state=0)"
   ],
   "id": "b9b736510fc55e4",
   "outputs": [
    {
     "ename": "FileNotFoundError",
     "evalue": "[WinError 3] Le chemin d’accès spécifié est introuvable: 'C:\\\\Users\\\\ramda\\\\PycharmProjects\\\\T-DEV-810-PAR_8\\\\data\\\\raw_test\\\\train'",
     "output_type": "error",
     "traceback": [
      "\u001B[1;31m---------------------------------------------------------------------------\u001B[0m",
      "\u001B[1;31mFileNotFoundError\u001B[0m                         Traceback (most recent call last)",
      "Cell \u001B[1;32mIn[2], line 11\u001B[0m\n\u001B[0;32m      7\u001B[0m base_path \u001B[38;5;241m=\u001B[39m os\u001B[38;5;241m.\u001B[39mpath\u001B[38;5;241m.\u001B[39mabspath(os\u001B[38;5;241m.\u001B[39mpath\u001B[38;5;241m.\u001B[39mjoin(os\u001B[38;5;241m.\u001B[39mgetcwd(), \u001B[38;5;124m\"\u001B[39m\u001B[38;5;124m../../data/raw_test\u001B[39m\u001B[38;5;124m\"\u001B[39m))\n\u001B[0;32m      9\u001B[0m train_path \u001B[38;5;241m=\u001B[39m os\u001B[38;5;241m.\u001B[39mpath\u001B[38;5;241m.\u001B[39mjoin(base_path, \u001B[38;5;124m\"\u001B[39m\u001B[38;5;124mtrain\u001B[39m\u001B[38;5;124m\"\u001B[39m)\n\u001B[1;32m---> 11\u001B[0m X, y \u001B[38;5;241m=\u001B[39m \u001B[43mload_images_from_folder\u001B[49m\u001B[43m(\u001B[49m\u001B[43mtrain_path\u001B[49m\u001B[43m,\u001B[49m\u001B[43m \u001B[49m\u001B[43mimage_size\u001B[49m\u001B[38;5;241;43m=\u001B[39;49m\u001B[43m(\u001B[49m\u001B[38;5;241;43m64\u001B[39;49m\u001B[43m,\u001B[49m\u001B[43m \u001B[49m\u001B[38;5;241;43m64\u001B[39;49m\u001B[43m)\u001B[49m\u001B[43m)\u001B[49m\n\u001B[0;32m     13\u001B[0m X_train, X_test, y_train, y_test \u001B[38;5;241m=\u001B[39m train_test_split(X, y, test_size\u001B[38;5;241m=\u001B[39m\u001B[38;5;241m0.1\u001B[39m, random_state\u001B[38;5;241m=\u001B[39m\u001B[38;5;241m0\u001B[39m)\n",
      "File \u001B[1;32m~\\PycharmProjects\\T-DEV-810-PAR_8\\src\\preprocessing.py:16\u001B[0m, in \u001B[0;36mload_images_from_folder\u001B[1;34m(folder_path, image_size)\u001B[0m\n\u001B[0;32m     12\u001B[0m labels \u001B[38;5;241m=\u001B[39m []\n\u001B[0;32m     14\u001B[0m label_dict \u001B[38;5;241m=\u001B[39m {\u001B[38;5;124m\"\u001B[39m\u001B[38;5;124mNORMAL\u001B[39m\u001B[38;5;124m\"\u001B[39m: \u001B[38;5;241m0\u001B[39m, \u001B[38;5;124m\"\u001B[39m\u001B[38;5;124mPNEUMONIA\u001B[39m\u001B[38;5;124m\"\u001B[39m: \u001B[38;5;241m1\u001B[39m}\n\u001B[1;32m---> 16\u001B[0m \u001B[38;5;28;01mfor\u001B[39;00m folder_name \u001B[38;5;129;01min\u001B[39;00m \u001B[43mos\u001B[49m\u001B[38;5;241;43m.\u001B[39;49m\u001B[43mlistdir\u001B[49m\u001B[43m(\u001B[49m\u001B[43mfolder_path\u001B[49m\u001B[43m)\u001B[49m:\n\u001B[0;32m     17\u001B[0m     sub_folder_path \u001B[38;5;241m=\u001B[39m os\u001B[38;5;241m.\u001B[39mpath\u001B[38;5;241m.\u001B[39mjoin(folder_path, folder_name)\n\u001B[0;32m     18\u001B[0m     \u001B[38;5;28;01mif\u001B[39;00m os\u001B[38;5;241m.\u001B[39mpath\u001B[38;5;241m.\u001B[39misdir(sub_folder_path):\n",
      "\u001B[1;31mFileNotFoundError\u001B[0m: [WinError 3] Le chemin d’accès spécifié est introuvable: 'C:\\\\Users\\\\ramda\\\\PycharmProjects\\\\T-DEV-810-PAR_8\\\\data\\\\raw_test\\\\train'"
     ]
    }
   ],
   "execution_count": 2
  },
  {
   "metadata": {},
   "cell_type": "markdown",
   "source": [
    "\n",
    "#### 2.Normalisation et prétraitement\n",
    "- Ajuster les valeurs des pixels pour qu'elles soient dans une plage spécifique (souvent 0 à 1)\n",
    "- Transformer chaque image 2D (64x64 pixels) en un vecteur 1D (4096 éléments."
   ],
   "id": "3aa82560036ecf1d"
  },
  {
   "metadata": {
    "ExecuteTime": {
     "end_time": "2024-07-21T20:32:11.090983Z",
     "start_time": "2024-07-21T20:32:10.560683Z"
    }
   },
   "cell_type": "code",
   "source": [
    "\n",
    "from src.preprocessing import normalize_images\n",
    "import numpy as np\n",
    "\n",
    "normalized_images = normalize_images(X_train)\n",
    "flattened_images = np.array([x.flatten() for x in normalized_images])\n",
    "\n",
    "test_normalized_images = normalize_images(X_test)\n",
    "test_flattened_images = np.array([x.flatten() for x in test_normalized_images])"
   ],
   "id": "f9cdedd13a58217a",
   "outputs": [],
   "execution_count": 21
  },
  {
   "metadata": {},
   "cell_type": "markdown",
   "source": [
    "#### 3. Définition des hyperparamètres et validation croisée : \n",
    "- On définit une  grille d'hyperparamètres pour tester différents nombres de voisins (k).\n",
    "- Utiliser GridSearchCV pour trouver le meilleur hyperparamètre n_neighbors avec validation croisée.\n"
   ],
   "id": "c30a5c9d7d7bbce2"
  },
  {
   "metadata": {
    "ExecuteTime": {
     "end_time": "2024-07-21T20:32:23.311064Z",
     "start_time": "2024-07-21T20:32:13.475639Z"
    }
   },
   "cell_type": "code",
   "source": [
    "from sklearn.neighbors import KNeighborsClassifier\n",
    "from sklearn.metrics import classification_report, confusion_matrix, roc_auc_score, roc_curve\n",
    "\n",
    "from sklearn.model_selection import GridSearchCV\n",
    "import matplotlib.pyplot as plt\n",
    "import numpy as np\n",
    "\n",
    "param_grid = {'n_neighbors': np.arange(1, 31)}\n",
    "\n",
    "knn_gscv = GridSearchCV(KNeighborsClassifier(), param_grid, cv=5)\n"
   ],
   "id": "d435efbb75045874",
   "outputs": [],
   "execution_count": 22
  },
  {
   "metadata": {},
   "cell_type": "markdown",
   "source": [
    "#### 4.Récupération du Meilleur Nombre de Voisins\n",
    "- Entraîner le modèle KNN avec les données d'entraînement après les avoir aplaties.\n",
    "- Identifier le meilleur nombre de voisins (k) trouvé par GridSearchCV."
   ],
   "id": "19515551810fd7d8"
  },
  {
   "metadata": {
    "ExecuteTime": {
     "end_time": "2024-07-21T20:24:29.161588Z",
     "start_time": "2024-07-21T20:24:29.141690Z"
    }
   },
   "cell_type": "code",
   "source": [
    "# Entraînement avec les données d'entraînement aplaties\n",
    "knn_gscv.fit(flattened_images, y_train)\n",
    "\n",
    "# Récupération du meilleur nombre de voisins et du meilleur score\n",
    "best_k = knn_gscv.best_params_['n_neighbors']\n",
    "best_score = knn_gscv.best_score_\n",
    "print(f'Best number of neighbors: {best_k}')\n",
    "print(f'Best cross-validated score: {best_score:.4f}')  "
   ],
   "id": "e4bb42931ab55f2",
   "outputs": [
    {
     "ename": "NameError",
     "evalue": "name 'knn_gscv' is not defined",
     "output_type": "error",
     "traceback": [
      "\u001B[1;31m---------------------------------------------------------------------------\u001B[0m",
      "\u001B[1;31mNameError\u001B[0m                                 Traceback (most recent call last)",
      "Cell \u001B[1;32mIn[15], line 2\u001B[0m\n\u001B[0;32m      1\u001B[0m \u001B[38;5;66;03m# Entraînement avec les données d'entraînement aplaties\u001B[39;00m\n\u001B[1;32m----> 2\u001B[0m \u001B[43mknn_gscv\u001B[49m\u001B[38;5;241m.\u001B[39mfit(flattened_images, y_train)\n\u001B[0;32m      4\u001B[0m \u001B[38;5;66;03m# Récupération du meilleur nombre de voisins et du meilleur score\u001B[39;00m\n\u001B[0;32m      5\u001B[0m best_k \u001B[38;5;241m=\u001B[39m knn_gscv\u001B[38;5;241m.\u001B[39mbest_params_[\u001B[38;5;124m'\u001B[39m\u001B[38;5;124mn_neighbors\u001B[39m\u001B[38;5;124m'\u001B[39m]\n",
      "\u001B[1;31mNameError\u001B[0m: name 'knn_gscv' is not defined"
     ]
    }
   ],
   "execution_count": 15
  },
  {
   "metadata": {},
   "cell_type": "markdown",
   "source": [
    "#### 5.Entraînement du modèle avec le meilleur k\n",
    "- Créer un nouveau modèle KNN avec le meilleur n_neighbors trouvé et l'entraîner sur les données d'entraînement."
   ],
   "id": "a0ff9a9f6a8cf26d"
  },
  {
   "metadata": {},
   "cell_type": "code",
   "source": [
    "# Entraînement du modèle avec le meilleur K\n",
    "knn_best = KNeighborsClassifier(n_neighbors=best_k)\n",
    "knn_best.fit(flattened_images, y_train)"
   ],
   "id": "961c94f7cd5b2917",
   "outputs": [],
   "execution_count": null
  },
  {
   "metadata": {},
   "cell_type": "markdown",
   "source": [
    "#### 6.Évaluation sur l'ensemble de test\n",
    "- Évaluer les performances du modèle KNN optimal sur un ensemble de test indépendant."
   ],
   "id": "8112c13f3e718ce6"
  },
  {
   "metadata": {
    "ExecuteTime": {
     "end_time": "2024-07-21T20:24:29.328646Z",
     "start_time": "2024-07-21T20:24:29.310556Z"
    }
   },
   "cell_type": "code",
   "source": [
    "y_test_pred = knn_best.predict(test_flattened_images)\n",
    "print(classification_report(y_test, y_test_pred))\n",
    "print(\"confusion matrix: \\n\",confusion_matrix(y_test, y_test_pred))"
   ],
   "id": "c6c1a03eac6b25dc",
   "outputs": [
    {
     "ename": "NameError",
     "evalue": "name 'knn_best' is not defined",
     "output_type": "error",
     "traceback": [
      "\u001B[1;31m---------------------------------------------------------------------------\u001B[0m",
      "\u001B[1;31mNameError\u001B[0m                                 Traceback (most recent call last)",
      "Cell \u001B[1;32mIn[16], line 1\u001B[0m\n\u001B[1;32m----> 1\u001B[0m y_test_pred \u001B[38;5;241m=\u001B[39m \u001B[43mknn_best\u001B[49m\u001B[38;5;241m.\u001B[39mpredict(test_flattened_images)\n\u001B[0;32m      2\u001B[0m \u001B[38;5;28mprint\u001B[39m(classification_report(y_test, y_test_pred))\n\u001B[0;32m      3\u001B[0m \u001B[38;5;28mprint\u001B[39m(\u001B[38;5;124m\"\u001B[39m\u001B[38;5;124mconfusion matrix: \u001B[39m\u001B[38;5;130;01m\\n\u001B[39;00m\u001B[38;5;124m\"\u001B[39m,confusion_matrix(y_test, y_test_pred))\n",
      "\u001B[1;31mNameError\u001B[0m: name 'knn_best' is not defined"
     ]
    }
   ],
   "execution_count": 16
  },
  {
   "metadata": {
    "ExecuteTime": {
     "end_time": "2024-07-21T20:24:29.393193Z",
     "start_time": "2024-07-21T20:24:29.373639Z"
    }
   },
   "cell_type": "code",
   "source": [
    "# Calcul des probabilités prédictives pour la classe positive\n",
    "y_test_pred_proba = knn_best.predict_proba(test_flattened_images)[:, 1]\n",
    "\n",
    "# Calcul des taux de faux positifs et de vrais positifs\n",
    "fpr, tpr, thresholds = roc_curve(y_test, y_test_pred_proba)\n",
    "\n",
    "# Calcul de l'AUC\n",
    "auc = roc_auc_score(y_test, y_test_pred_proba)\n",
    "\n",
    "# Affichage de la courbe ROC\n",
    "plt.figure()\n",
    "plt.plot(fpr, tpr, label=f'AUC = {auc:.2f}')\n",
    "plt.xlabel('False Positive Rate')\n",
    "plt.ylabel('True Positive Rate')\n",
    "plt.title('Receiver Operating Characteristic')\n",
    "plt.legend(loc='lower right')\n",
    "plt.show()"
   ],
   "id": "84cb1cc18e417365",
   "outputs": [
    {
     "ename": "NameError",
     "evalue": "name 'knn_best' is not defined",
     "output_type": "error",
     "traceback": [
      "\u001B[1;31m---------------------------------------------------------------------------\u001B[0m",
      "\u001B[1;31mNameError\u001B[0m                                 Traceback (most recent call last)",
      "Cell \u001B[1;32mIn[17], line 2\u001B[0m\n\u001B[0;32m      1\u001B[0m \u001B[38;5;66;03m# Calcul des probabilités prédictives pour la classe positive\u001B[39;00m\n\u001B[1;32m----> 2\u001B[0m y_test_pred_proba \u001B[38;5;241m=\u001B[39m \u001B[43mknn_best\u001B[49m\u001B[38;5;241m.\u001B[39mpredict_proba(test_flattened_images)[:, \u001B[38;5;241m1\u001B[39m]\n\u001B[0;32m      4\u001B[0m \u001B[38;5;66;03m# Calcul des taux de faux positifs et de vrais positifs\u001B[39;00m\n\u001B[0;32m      5\u001B[0m fpr, tpr, thresholds \u001B[38;5;241m=\u001B[39m roc_curve(y_test, y_test_pred_proba)\n",
      "\u001B[1;31mNameError\u001B[0m: name 'knn_best' is not defined"
     ]
    }
   ],
   "execution_count": 17
  }
 ],
 "metadata": {
  "kernelspec": {
   "display_name": "Python 3",
   "language": "python",
   "name": "python3"
  },
  "language_info": {
   "codemirror_mode": {
    "name": "ipython",
    "version": 2
   },
   "file_extension": ".py",
   "mimetype": "text/x-python",
   "name": "python",
   "nbconvert_exporter": "python",
   "pygments_lexer": "ipython2",
   "version": "2.7.6"
  }
 },
 "nbformat": 4,
 "nbformat_minor": 5
}
