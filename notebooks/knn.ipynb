{
 "cells": [
  {
   "metadata": {},
   "cell_type": "markdown",
   "source": [
    " # K-nearest-neighbours (KNN)\n",
    "## Etapes:\n",
    "#### 1. Chargement des  données"
   ],
   "id": "ac5b06a121444c7a"
  },
  {
   "metadata": {},
   "cell_type": "markdown",
   "source": "",
   "id": "2626992abecb25bf"
  },
  {
   "metadata": {},
   "cell_type": "markdown",
   "source": "",
   "id": "28eedfb431425d37"
  },
  {
   "metadata": {},
   "cell_type": "markdown",
   "source": "",
   "id": "a88a98413a770ac4"
  },
  {
   "metadata": {
    "ExecuteTime": {
     "end_time": "2024-06-24T09:42:08.556273Z",
     "start_time": "2024-06-24T09:41:19.609437Z"
    }
   },
   "cell_type": "code",
   "source": [
    "import numpy as np\n",
    "import os.path\n",
    "from src.preprocessing import load_images_from_folder\n",
    "\n",
    "#data_path = os.path.abspath(\"/home/user/project/data/raw\")\n",
    "base_path = os.path.abspath(os.path.join(os.getcwd(), \"../data/raw\"))\n",
    "\n",
    "train_path = os.path.join(base_path, \"train\")\n",
    "test_path = os.path.join(base_path, \"test\")\n",
    "X_train, y_train = load_images_from_folder(train_path, image_size=(64, 64))\n",
    "X_test, y_test = load_images_from_folder(test_path, image_size=(64, 64))"
   ],
   "id": "b9b736510fc55e4",
   "outputs": [],
   "execution_count": 8
  },
  {
   "metadata": {},
   "cell_type": "markdown",
   "source": "#### 2.Normalisation et prétraitement\n",
   "id": "3aa82560036ecf1d"
  },
  {
   "metadata": {
    "ExecuteTime": {
     "end_time": "2024-06-24T09:42:31.412002Z",
     "start_time": "2024-06-24T09:42:30.721391Z"
    }
   },
   "cell_type": "code",
   "source": [
    "from src.preprocessing import normalize_images\n",
    "import numpy as np\n",
    "\n",
    "\n",
    "normalized_images = normalize_images(X_train)\n",
    "flattened_images = np.array([x.flatten() for x in normalized_images])\n",
    "\n",
    "test_normalized_images = normalize_images(X_test)\n",
    "test_flattened_images = np.array([x.flatten() for x in test_normalized_images])"
   ],
   "id": "f9cdedd13a58217a",
   "outputs": [],
   "execution_count": 10
  },
  {
   "metadata": {},
   "cell_type": "markdown",
   "source": [
    "### 3.Création et entraînement du modèle\n",
    "- Définition des hyperparamètres et validation croisée \n"
   ],
   "id": "c30a5c9d7d7bbce2"
  },
  {
   "metadata": {
    "ExecuteTime": {
     "end_time": "2024-06-24T09:44:11.896924Z",
     "start_time": "2024-06-24T09:42:34.103357Z"
    }
   },
   "cell_type": "code",
   "source": [
    "from sklearn.neighbors import KNeighborsClassifier\n",
    "from sklearn.metrics import classification_report, confusion_matrix, roc_auc_score, roc_curve\n",
    "from sklearn.model_selection import GridSearchCV\n",
    "import matplotlib.pyplot as plt\n",
    "import numpy as np\n",
    "\n",
    "# définir les hyperparametres à tester (entre 1 et 31)\n",
    "param_grid = {'n_neighbors': np.arange(1, 31)}\n",
    "\n",
    "#Initialisation de GridSearchCV avec Validation Croisée\n",
    "knn_gscv = GridSearchCV(KNeighborsClassifier(), param_grid, cv=5)\n",
    "\n",
    "#Entraînement avec les Données d'Entraînement Aplaties\n",
    "knn_gscv.fit(flattened_images, y_train)\n",
    "\n",
    "#Récupération du Meilleur Nombre de Voisins\n",
    "best_k = knn_gscv.best_params_['n_neighbors']\n",
    "print(f'Best number of neighbors: {best_k}')\n",
    "\n",
    "\n",
    "# Entraînement du modèle avec le meilleur K\n",
    "knn_best = KNeighborsClassifier(n_neighbors=best_k)\n",
    "knn_best.fit(flattened_images, y_train)\n",
    "\n",
    "# Évaluation sur l'ensemble de test\n",
    "y_test_pred = knn_best.predict(test_flattened_images)\n",
    "print(classification_report(y_test, y_test_pred))\n",
    "print(confusion_matrix(y_test, y_test_pred))"
   ],
   "id": "d435efbb75045874",
   "outputs": [
    {
     "name": "stderr",
     "output_type": "stream",
     "text": [
      "C:\\Users\\ramda\\PycharmProjects\\T-DEV-810-PAR_8\\.venv\\Lib\\site-packages\\joblib\\externals\\loky\\backend\\context.py:136: UserWarning: Could not find the number of physical cores for the following reason:\n",
      "found 0 physical cores < 1\n",
      "Returning the number of logical cores instead. You can silence this warning by setting LOKY_MAX_CPU_COUNT to the number of cores you want to use.\n",
      "  warnings.warn(\n",
      "  File \"C:\\Users\\ramda\\PycharmProjects\\T-DEV-810-PAR_8\\.venv\\Lib\\site-packages\\joblib\\externals\\loky\\backend\\context.py\", line 282, in _count_physical_cores\n",
      "    raise ValueError(f\"found {cpu_count_physical} physical cores < 1\")\n"
     ]
    },
    {
     "name": "stdout",
     "output_type": "stream",
     "text": [
      "Best number of neighbors: 4\n",
      "              precision    recall  f1-score   support\n",
      "\n",
      "           0       0.95      0.41      0.57       234\n",
      "           1       0.73      0.99      0.84       390\n",
      "\n",
      "    accuracy                           0.77       624\n",
      "   macro avg       0.84      0.70      0.71       624\n",
      "weighted avg       0.82      0.77      0.74       624\n",
      "\n",
      "[[ 95 139]\n",
      " [  5 385]]\n"
     ]
    }
   ],
   "execution_count": 11
  },
  {
   "metadata": {},
   "cell_type": "code",
   "outputs": [],
   "execution_count": null,
   "source": "",
   "id": "59262115d72d3c6"
  }
 ],
 "metadata": {
  "kernelspec": {
   "display_name": "Python 3",
   "language": "python",
   "name": "python3"
  },
  "language_info": {
   "codemirror_mode": {
    "name": "ipython",
    "version": 2
   },
   "file_extension": ".py",
   "mimetype": "text/x-python",
   "name": "python",
   "nbconvert_exporter": "python",
   "pygments_lexer": "ipython2",
   "version": "2.7.6"
  }
 },
 "nbformat": 4,
 "nbformat_minor": 5
}
